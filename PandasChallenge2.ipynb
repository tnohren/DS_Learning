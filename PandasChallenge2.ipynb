{
 "cells": [
  {
   "cell_type": "code",
   "execution_count": 2,
   "id": "d7edb233",
   "metadata": {},
   "outputs": [],
   "source": [
    "import pandas as pd\n",
    "\n",
    "# Read CSV\n",
    "epurchases = pd.read_csv('Ecommerce Purchases')\n",
    "\n",
    "# Find Average Purchase Price\n",
    "avgPurchase = epurchases['Purchase Price'].mean()\n",
    "\n",
    "# Find Maximum Purchase Price\n",
    "maxPurchase = epurchases['Purchase Price'].max()\n",
    "\n",
    "# Find Minimum Purchase Price\n",
    "minPurchase = epurchases['Purchase Price'].min()\n",
    "\n",
    "# Number of People with English as Language\n",
    "engPeople = epurchases[epurchases['Language'] == 'en'].count()\n",
    "\n",
    "# Number of Lawyers\n",
    "lawyers = epurchases[epurchases['Job'] == 'Lawyer'].count()\n",
    "\n",
    "# Number of Purchases in AM and PM\n",
    "timePurchases = epurchases['AM or PM'].value_counts()\n",
    "\n",
    "# Top 5 Most Common Job Titles\n",
    "jobTitles = epurchases['Job'].value_counts().head(5)\n",
    "\n",
    "# Purchase Price of Transaction from Lot 90 WT\n",
    "lot90WT = epurchases[epurchases['Lot'] == '90 WT']['Purchase Price']\n",
    "\n",
    "# Email of Person where Credit Card is 4926535242672853\n",
    "emCC = epurchases[epurchases['Credit Card'] == '4926535242672853']['Email']\n",
    "\n",
    "# Number of People with American Express Credit Card and a Purchase Above $95\n",
    "aeCC95 = epurchases[(epurchases['CC Provider'] == 'American Express') & (epurchases['Purchase Price'] > 95)].count()\n",
    "\n",
    "# Number of People with 2025 Credit Card Expiration\n",
    "ccExp25 = sum(epurchases['CC Exp Date'].apply(lambda x: x.split(\"/\")[1] == '25'))\n",
    "\n",
    "# Top 5 Most Popular Email Providers\n",
    "emProviders = epurchases['Email'].apply(lambda x: x.split(\"@\")[1]).value_counts().head(5)"
   ]
  }
 ],
 "metadata": {
  "kernelspec": {
   "display_name": "Python 3 (ipykernel)",
   "language": "python",
   "name": "python3"
  },
  "language_info": {
   "codemirror_mode": {
    "name": "ipython",
    "version": 3
   },
   "file_extension": ".py",
   "mimetype": "text/x-python",
   "name": "python",
   "nbconvert_exporter": "python",
   "pygments_lexer": "ipython3",
   "version": "3.9.12"
  }
 },
 "nbformat": 4,
 "nbformat_minor": 5
}
